{
 "cells": [
  {
   "cell_type": "code",
   "execution_count": 1,
   "metadata": {},
   "outputs": [],
   "source": [
    "import random\n",
    "correct = False\n",
    "turns = 0\n",
    "code = []\n",
    "correct_digits_and_position = 0\n",
    "correct_digits_only = 0\n",
    "user_input=\"\""
   ]
  },
  {
   "cell_type": "code",
   "execution_count": null,
   "metadata": {},
   "outputs": [],
   "source": [
    "for i in range(4):\n",
    "    value = random.randint(1, 8) # 8 possible digits\n",
    "    while value in code:\n",
    "        value = random.randint(1, 8)  # 8 possible digits\n",
    "        code.append((value))\n",
    "    list(map(str, code))"
   ]
  },
  {
   "cell_type": "code",
   "execution_count": null,
   "metadata": {},
   "outputs": [],
   "source": []
  }
 ],
 "metadata": {
  "kernelspec": {
   "display_name": "Python 3.10.8 64-bit (microsoft store)",
   "language": "python",
   "name": "python3"
  },
  "language_info": {
   "codemirror_mode": {
    "name": "ipython",
    "version": 3
   },
   "file_extension": ".py",
   "mimetype": "text/x-python",
   "name": "python",
   "nbconvert_exporter": "python",
   "pygments_lexer": "ipython3",
   "version": "3.10.8"
  },
  "orig_nbformat": 4,
  "vscode": {
   "interpreter": {
    "hash": "c93c8748ee2f2828fbd6b8909fbbde98a679117df46cc774b23c4c30c3193bff"
   }
  }
 },
 "nbformat": 4,
 "nbformat_minor": 2
}
